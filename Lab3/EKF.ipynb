{
  "nbformat": 4,
  "nbformat_minor": 0,
  "metadata": {
    "colab": {
      "name": "EKF",
      "provenance": []
    },
    "kernelspec": {
      "name": "python3",
      "display_name": "Python 3"
    }
  },
  "cells": [
    {
      "cell_type": "code",
      "metadata": {
        "id": "IGnU6fdiP8uZ",
        "colab_type": "code",
        "outputId": "454c967c-aa2a-4d76-bda9-07bd1a201d6d",
        "colab": {
          "base_uri": "https://localhost:8080/",
          "height": 211
        }
      },
      "source": [
        "!pip install filterpy\n",
        "import numpy as np\n",
        "from numpy import dot\n",
        "from math import sqrt, sin, cos, tan\n",
        "from filterpy.kalman import ExtendedKalmanFilter as EKF\n",
        "import matplotlib.pyplot as plt\n",
        "from filterpy.stats import plot_covariance_ellipse"
      ],
      "execution_count": 0,
      "outputs": [
        {
          "output_type": "stream",
          "text": [
            "Requirement already satisfied: filterpy in /usr/local/lib/python3.6/dist-packages (1.4.5)\n",
            "Requirement already satisfied: matplotlib in /usr/local/lib/python3.6/dist-packages (from filterpy) (3.1.1)\n",
            "Requirement already satisfied: numpy in /usr/local/lib/python3.6/dist-packages (from filterpy) (1.17.4)\n",
            "Requirement already satisfied: scipy in /usr/local/lib/python3.6/dist-packages (from filterpy) (1.3.2)\n",
            "Requirement already satisfied: cycler>=0.10 in /usr/local/lib/python3.6/dist-packages (from matplotlib->filterpy) (0.10.0)\n",
            "Requirement already satisfied: python-dateutil>=2.1 in /usr/local/lib/python3.6/dist-packages (from matplotlib->filterpy) (2.6.1)\n",
            "Requirement already satisfied: pyparsing!=2.0.4,!=2.1.2,!=2.1.6,>=2.0.1 in /usr/local/lib/python3.6/dist-packages (from matplotlib->filterpy) (2.4.5)\n",
            "Requirement already satisfied: kiwisolver>=1.0.1 in /usr/local/lib/python3.6/dist-packages (from matplotlib->filterpy) (1.1.0)\n",
            "Requirement already satisfied: six in /usr/local/lib/python3.6/dist-packages (from cycler>=0.10->matplotlib->filterpy) (1.12.0)\n",
            "Requirement already satisfied: setuptools in /usr/local/lib/python3.6/dist-packages (from kiwisolver>=1.0.1->matplotlib->filterpy) (41.6.0)\n"
          ],
          "name": "stdout"
        }
      ]
    },
    {
      "cell_type": "code",
      "metadata": {
        "id": "pD5hEPsnQNEF",
        "colab_type": "code",
        "colab": {}
      },
      "source": [
        "def calc_F(s, dt, u):\n",
        "    '''\n",
        "    Calculate the jacobian of the process function with repect to state \n",
        "    variables, conditioned on the current state.\n",
        "    Input: current state s, time interval dt and control input u. Return \n",
        "    the F matrix for updating P. \n",
        "    '''\n",
        "    theta = s[2]\n",
        "    dist = dt * (u[0] + u[1]) * r / 2\n",
        "    F = [[1, 0, -1* dist * np.sin(theta), 0], [0, 1, dist * np.cos(theta), 0], \n",
        "         [0, 0, 1, 0], [0, 0, 0, 0]]\n",
        "    return np.array(F)"
      ],
      "execution_count": 0,
      "outputs": []
    },
    {
      "cell_type": "code",
      "metadata": {
        "id": "4oJxzrXlRaKl",
        "colab_type": "code",
        "colab": {}
      },
      "source": [
        "def calc_V(s, dt, u):\n",
        "    '''\n",
        "    Calculate the jacobian of the process function with respect to the \n",
        "    control input, conditioned on the current state.\n",
        "    Input: current state s, time interval dt and control input u. Return \n",
        "    the V matrix for updating P. \n",
        "    '''\n",
        "    theta = s[2]\n",
        "    V1 = dt * r * np.cos(theta) / 2\n",
        "    V2 = dt * r * np.sin(theta) / 2\n",
        "    V3 = dt * r / l\n",
        "    V4 = r / l\n",
        "    V = [[V1, V1], [V2, V2], [V3, -1 * V3], [0, 0]]\n",
        "    return np.array(V)"
      ],
      "execution_count": 0,
      "outputs": []
    },
    {
      "cell_type": "code",
      "metadata": {
        "id": "W5l59d3XrqCN",
        "colab_type": "code",
        "colab": {}
      },
      "source": [
        "def H_of(s):\n",
        "    \"\"\" \n",
        "    Compute H, the Jacobian of the measurment matrix where h(s) computes \n",
        "    the range toward front wall and right wall for state s \n",
        "    \"\"\"\n",
        "    x = s[0]\n",
        "    y = s[1]\n",
        "    xf , yf = straight_intersection_point(s)\n",
        "    xr , yr = right_intersection_point(s) \n",
        "    f_dist = sqrt((xf - x)**2 + (yf-y)**2)\n",
        "    r_dist = sqrt((xr - x)**2 + (yr-y)**2)\n",
        " \n",
        "    H = [[(x - xf) / f_dist, (y - yf) / f_dist, 0, 0], [(x - xr) / r_dist, \n",
        "                        (y - yr) / r_dist, 0, 0], [0, 0, 1, 0], [0, 0, 0, 1]]\n",
        "    \n",
        "    return np.array(H)"
      ],
      "execution_count": 0,
      "outputs": []
    },
    {
      "cell_type": "code",
      "metadata": {
        "id": "FEPcCyOKrtUW",
        "colab_type": "code",
        "colab": {}
      },
      "source": [
        "def Hx(s):\n",
        "    \"\"\" \n",
        "    takes a state variable and returns the measurement\n",
        "    that would correspond to that state.\n",
        "    \"\"\"\n",
        "    x = s[0]\n",
        "    y = s[1]\n",
        "    xf , yf = straight_intersection_point(s)\n",
        "    xr , yr = right_intersection_point(s) \n",
        "    f_dist = sqrt((xf - x)**2 + (yf-y)**2)\n",
        "    r_dist = sqrt((xr - x)**2 + (yr-y)**2)\n",
        "\n",
        "    Hx = [f_dist, r_dist, s[2], s[3]]\n",
        "\n",
        "    return np.array(Hx)"
      ],
      "execution_count": 0,
      "outputs": []
    },
    {
      "cell_type": "code",
      "metadata": {
        "id": "HoH21ZPJsxi6",
        "colab_type": "code",
        "colab": {}
      },
      "source": [
        "def noisy_sensor(x, std_r, std_b):\n",
        "    '''\n",
        "    Generate the noisy reading.\n",
        "    x: current state, [x, y, theta]\n",
        "    std_r: laser std.\n",
        "    std_b: bearing std.\n",
        "    returns noisy reading of sensor.\n",
        "    '''\n",
        "    sensor_out = Hx(x)\n",
        "    sensor_out[0] += std_r * np.random.randn()\n",
        "    sensor_out[1] += std_r * np.random.randn()\n",
        "    sensor_out[2] += std_b * np.random.randn()\n",
        "    sensor_out[3] += std_b * np.random.randn()\n",
        "    return np.array(sensor_out)\n",
        "\n",
        "def noisy_move(x, dt, u, std_an):\n",
        "    '''\n",
        "    Generate the noisy state.\n",
        "    x: current state.\n",
        "    u: angular vel of left and right wheels, [wl, wr]\n",
        "    std_an: std. of angular vel. of wheels.\n",
        "    '''\n",
        "    vl = (u[0] + std_an * np.random.randn()) * r\n",
        "    vr = (u[1] + std_an * np.random.randn()) * r\n",
        "    v = (vl + vr) / 2.0\n",
        "    omega = (vr - vl) / l\n",
        "    ds = v * dt\n",
        "    dtheta = omega * dt\n",
        "    return x + np.array([ds * cos(x[2]), ds * sin(x[2]), dtheta, omega])"
      ],
      "execution_count": 0,
      "outputs": []
    },
    {
      "cell_type": "code",
      "metadata": {
        "id": "V6WtAQd1r44V",
        "colab_type": "code",
        "colab": {}
      },
      "source": [
        "def normalize_angle(x):\n",
        "    '''\n",
        "    Normalize the angle difference to [-pi, pi]\n",
        "    x: actual angle difference, in the range of [-2 pi, 2 pi]\n",
        "    return the normalized angle.\n",
        "    '''\n",
        "    if x >= np.pi:\n",
        "        x = x - 2 * np.pi\n",
        "    if x <= -np.pi:\n",
        "        x = x + 2 * np.pi\n",
        "    return x\n",
        "\n",
        "def residual(a, b):\n",
        "    \"\"\" \n",
        "    compute residual and \n",
        "    normalize to get the correct angular difference\n",
        "    \"\"\"\n",
        "    y = a - b\n",
        "    y[2] = normalize_angle(y[2])\n",
        "    return y"
      ],
      "execution_count": 0,
      "outputs": []
    },
    {
      "cell_type": "code",
      "metadata": {
        "id": "VXnzs1t-swIJ",
        "colab_type": "code",
        "colab": {}
      },
      "source": [
        "def straight_intersection_point(s, boundary=[750, 500]):\n",
        "    '''\n",
        "    calculate the intersection point between straight laser and boundary.\n",
        "    s: current state, [x, y, theta]\n",
        "    boundary: [L, W], default [750, 500]mm.\n",
        "    return ps, the intersection of straight laser between boundaries.\n",
        "    '''\n",
        "    x = s[0]\n",
        "    y = s[1]\n",
        "    theta = s[2]\n",
        "    X = boundary[0]\n",
        "    Y = boundary[1]\n",
        "    if theta > 0 and theta < np.pi / 2:\n",
        "        xs = x + (Y - y) / tan(theta)\n",
        "        ys = y + (X - x) * tan(theta)\n",
        "        if xs >= 0 and xs <= X:\n",
        "            return [xs, Y]\n",
        "        else:\n",
        "            return [X, ys]        \n",
        "        \n",
        "    elif theta > np.pi / 2 and theta < np.pi:\n",
        "        xs = x + (Y - y) / tan(theta)\n",
        "        ys = y - x * tan(theta)\n",
        "        if xs >= 0 and xs <= X:\n",
        "            return [xs, Y]\n",
        "        else:\n",
        "            return [0, ys]\n",
        "        \n",
        "    elif theta > -np.pi and theta < -np.pi / 2:\n",
        "        xs = x - y / tan(theta)\n",
        "        ys = y - x * tan(theta)\n",
        "        if xs >= 0 and xs <= X:\n",
        "            return [xs, 0]\n",
        "        else:\n",
        "            return [0, ys]\n",
        "            \n",
        "    elif theta > -np.pi / 2 and theta < 0:\n",
        "        xs = x - y / tan(theta)\n",
        "        ys = y + (X - x) * tan(theta)\n",
        "        if xs >= 0 and xs <= X:\n",
        "            return [xs, 0]\n",
        "        else:\n",
        "            return [X, ys]\n",
        "    elif theta == 0:\n",
        "        return [X, y]\n",
        "    elif theta == np.pi / 2:\n",
        "        return [x, Y]\n",
        "    elif theta == np.pi or theta == -np.pi:\n",
        "        return [0, y]\n",
        "    else:\n",
        "        return [x, 0]\n",
        "\n",
        "def right_intersection_point(s, boundary=[750, 500]):\n",
        "    '''\n",
        "    calculate the intersection point between right laser and boundary.\n",
        "    s: current state, [x, y, theta]\n",
        "    boundary: [L, W], default [750, 500]mm.\n",
        "    return ps, the intersection of right laser between boundaries.\n",
        "    '''\n",
        "    x = s[0]\n",
        "    y = s[1]\n",
        "    theta = s[2]\n",
        "    X = boundary[0]\n",
        "    Y = boundary[1]\n",
        "    if theta > 0 and theta < np.pi / 2:\n",
        "        xr = x + y / tan(np.pi / 2 - theta)\n",
        "        yr = y - (X - x) * tan(np.pi / 2 - theta)\n",
        "        if xr >= 0 and xr <= X:\n",
        "            return [xr, 0]\n",
        "        else:\n",
        "            return [X, yr]        \n",
        "        \n",
        "    elif theta > np.pi / 2 and theta < np.pi:\n",
        "        xr = x + (Y - y) / tan(theta - np.pi / 2)\n",
        "        yr = y +  (X - x) * tan(theta - np.pi / 2)\n",
        "        if xr >= 0 and xr <= X:\n",
        "            return [xr, Y]\n",
        "        else:\n",
        "            return [X, yr]\n",
        "        \n",
        "    elif theta > -np.pi and theta <= -np.pi / 2:\n",
        "        xr = x + (Y - y) / tan(theta + np.pi / 2)\n",
        "        yr = y - x * tan(theta + np.pi / 2)\n",
        "        if xr >= 0 and xr <= X:\n",
        "            return [xr, Y]\n",
        "        else:\n",
        "            return [0, yr]\n",
        "            \n",
        "    elif theta > - np.pi / 2 and theta < 0:\n",
        "        xr = x - y / tan(theta + np.pi / 2)\n",
        "        yr = y - x * tan(theta + np.pi / 2)\n",
        "        if xr >= 0 and xr <= X:\n",
        "            return [xr, 0]\n",
        "        else:\n",
        "            return [0, yr]\n",
        "    elif theta == 0:\n",
        "        return [x, 0]\n",
        "    elif theta == np.pi / 2:\n",
        "        return [X, y]\n",
        "    elif theta == np.pi or theta == -np.pi:\n",
        "        return [x, Y]\n",
        "    else:\n",
        "        return [0, y]"
      ],
      "execution_count": 0,
      "outputs": []
    },
    {
      "cell_type": "code",
      "metadata": {
        "id": "gjV4_hP0PeMO",
        "colab_type": "code",
        "colab": {}
      },
      "source": [
        "'''\n",
        "Extend the filterpy.kalman.ExtendedKalmanFilter. Override the predict() \n",
        "and move() function to ensure proper inclusion of measurment noise. \n",
        "'''\n",
        "class RobotEKF(EKF):\n",
        "    def __init__(self, dt, M, std_r, std_b, std_an):\n",
        "        EKF.__init__(self, 4, 4, 2)\n",
        "        self.dt = dt\n",
        "        self.M = np.diag([std_r**2, std_b**2])\n",
        "\n",
        "\n",
        "    def predict(self, u):\n",
        "        self.x = self.move(self.x, self.dt, u)\n",
        "        F = calc_F(self.x, self.dt, u)\n",
        "        V = calc_V(self.x, self.dt, u)\n",
        "        self.P = dot(F, self.P).dot(F.T) + dot(V, self.M).dot(V.T)\n",
        "    \n",
        "\n",
        "    def move(self, x, dt, u):\n",
        "        '''\n",
        "        Generate the noisy state.\n",
        "        u: angular vel of left and right wheels, [wl, wr]\n",
        "        '''\n",
        "        vl = (u[0] + std_an * np.random.randn()) * r\n",
        "        vr = (u[1] + std_an * np.random.randn()) * r\n",
        "        v = (vl + vr) / 2.0\n",
        "        omega = (vr - vl) / l\n",
        "        ds = v * dt\n",
        "        dtheta = omega * dt\n",
        "        return x + np.array([ds * cos(x[2]), ds * sin(x[2]), dtheta, omega])"
      ],
      "execution_count": 0,
      "outputs": []
    },
    {
      "cell_type": "code",
      "metadata": {
        "id": "ULt5YEqQPm-J",
        "colab_type": "code",
        "colab": {}
      },
      "source": [
        "def run_localization(x_init, u_dict, dt, M, R, Q, std_r, std_b, std_an, step = 10):\n",
        "    '''\n",
        "    Build the RobotEKF class and plot the predicted trajectory \n",
        "    only by taking control input, the trajectory with measurement,\n",
        "    together with the visualization of the convariance matrix. \n",
        "    Need to take initial state, a dictionay of control input, \n",
        "    the time interval, convariance matrix for the control, the process\n",
        "    model and the measurement model, as well as the standard deviation \n",
        "    for the sensor and the motor. \n",
        "    '''\n",
        "    ekf = RobotEKF(dt, M, std_b, std_r, std_an)\n",
        "    ekf.x = x_init\n",
        "    ekf.R = R\n",
        "    ekf.Q = Q\n",
        "    ekf.P = Q\n",
        "    \n",
        "    move_x = []\n",
        "    update_x = []\n",
        "    sim_x = x_init\n",
        "    for n in u_dict:\n",
        "        u = u_dict[n]\n",
        "        sim_x = ekf.move(sim_x, dt / step, u)\n",
        "        move_x.append(sim_x)\n",
        "        if n % step == 0:\n",
        "          ekf.predict(u)\n",
        "          z = noisy_sensor(ekf.x, std_r, std_b)\n",
        "          ekf.update(z, HJacobian=H_of, Hx=Hx, \n",
        "                residual=residual)\n",
        "        update_x.append(ekf.x)\n",
        "    \n",
        "    move_x = np.array(move_x)\n",
        "    update_x = np.array(update_x)\n",
        "    plt.figure()\n",
        "    plt.title(\"EKF Robot localization\")\n",
        "    plt.grid()\n",
        "    plt.plot(update_x[:, 0], update_x[:, 1], 'r--', lw=2)\n",
        "    plt.plot(move_x[:, 0], move_x[:,1], color='k', lw=2)\n",
        "    plt.xlim([0, L])\n",
        "    plt.ylim([0, W])\n",
        "    plt.show()    \n",
        "    return move_x, update_x"
      ],
      "execution_count": 0,
      "outputs": []
    },
    {
      "cell_type": "code",
      "metadata": {
        "id": "XFYPJmenZMu9",
        "colab_type": "code",
        "colab": {}
      },
      "source": [
        "def accuracy(actual, estimate, show=True):\n",
        "    '''\n",
        "    Plot and return accuracy of estimated traj.\n",
        "    '''\n",
        "    diff = actual - estimate\n",
        "    diff_x = np.abs(diff[:, 0])\n",
        "    diff_y = np.abs(diff[:, 1])\n",
        "    diff_theta = np.abs(diff[:, 2])\n",
        "    avg_x = np.mean(diff_x)\n",
        "    avg_y = np.mean(diff_y)\n",
        "    avg_theta = np.mean(diff_theta)\n",
        "    std_x = np.std(diff_x)\n",
        "    std_y = np.std(diff_y)\n",
        "    std_theta = np.std(diff_theta)\n",
        "    if show:\n",
        "        t = np.linspace(0.1, len(diff_x)*0.1, num=len(diff_x))\n",
        "        \n",
        "        plt.figure(figsize=(9, 5))\n",
        "        \n",
        "        p1 = plt.subplot(311)\n",
        "#        plt.plot(t, diff_x, 'r')\n",
        "        plt.plot(t, diff_x, 'r')\n",
        "        plt.grid()\n",
        "        p1.set_ylabel('Errors in x (mm)')\n",
        "         \n",
        "        p2 = plt.subplot(312)\n",
        "        plt.plot(t, diff_y, 'g')\n",
        "        plt.grid()\n",
        "        p2.set_ylabel('Errors in y (mm)')\n",
        "        \n",
        "        p3 = plt.subplot(313)\n",
        "        plt.plot(t, diff_theta, 'b')\n",
        "        plt.grid()\n",
        "        p3.set_ylabel('Errors in theta (rad)')\n",
        "        plt.xlabel('t (s)')\n",
        "        \n",
        "        plt.show()\n",
        "    return avg_x, avg_y, avg_theta, std_x, std_y, std_theta"
      ],
      "execution_count": 0,
      "outputs": []
    },
    {
      "cell_type": "code",
      "metadata": {
        "id": "2O4DIN3VPtgR",
        "colab_type": "code",
        "outputId": "8f1eb6f7-4494-4b40-eebf-040cbf904eba",
        "colab": {
          "base_uri": "https://localhost:8080/",
          "height": 903
        }
      },
      "source": [
        "'''\n",
        "initialize and test case\n",
        "'''\n",
        "if __name__ == \"__main__\":\n",
        "    L = 750.0 \n",
        "    W = 500.0 \n",
        "    r = 25.0 #mm\n",
        "    l = 90.0 #mm\n",
        "    std_an = 130 * 2 * np.pi / 60.0 * 0.05         \n",
        "    std_r = 1200 * 0.03            \n",
        "    std_b = np.radians(0.1)        \n",
        "    x_init = np.array([90, 90, np.pi / 3, 0])\n",
        "    Q = np.diag([0.01, 0.01, 0, 0])\n",
        "    M = np.diag([std_an**2, std_an**2])\n",
        "    R = np.diag([std_r**2, std_r**2, std_b**2, std_b**2])\n",
        "    dt = 1.0\n",
        "    u_dict = {}\n",
        "    for n in range(130):\n",
        "        if n < 50:\n",
        "            u_dict[n] = [2.0, 2,2]\n",
        "        elif n < 130:\n",
        "            u_dict[n] = [2.9, 2.0]\n",
        "        elif n < 160:\n",
        "            u_dict[n] = [3.5, 2.0]\n",
        "        elif n < 210:\n",
        "            u_dict[n] = [4.5, 1.0]\n",
        "        else:\n",
        "            u_dict[n] = [1.0, 4.5]\n",
        "    \n",
        "    move_x, update_x = run_localization(x_init, u_dict, dt, M, R, Q, std_r, std_b, std_an)\n",
        "    \n",
        "    avg_x, avg_y, avg_theta, std_x, std_y, std_theta = accuracy(move_x, update_x, show=True)\n",
        "    print('avg_x ' + str(avg_x))\n",
        "    print('avg_y ' + str(avg_y))\n",
        "    print('avg_theta ' + str(avg_theta))\n",
        "    print('std_x ' + str(std_x))\n",
        "    print('std_y ' + str(std_y))\n",
        "    print('std_theta ' + str(std_theta))\n",
        "    generate_ideal_noisy_traj(x, cmds, 1.0, 10, std_an)   \n",
        "    sensor_traces(x, cmds, 1.0, 10, std_an, std_r, std_b)"
      ],
      "execution_count": 0,
      "outputs": [
        {
          "output_type": "display_data",
          "data": {
            "image/png": "[encoded data removed]",
            "text/plain": [
              "<Figure size 432x288 with 1 Axes>"
            ]
          },
          "metadata": {
            "tags": []
          }
        },
        {
          "output_type": "display_data",
          "data": {
            "image/png": "[encoded data removed]",
            "text/plain": [
              "<Figure size 648x360 with 3 Axes>"
            ]
          },
          "metadata": {
            "tags": []
          }
        },
        {
          "output_type": "stream",
          "text": [
            "avg_x 133.61327955478637\n",
            "avg_y 75.52862055179777\n",
            "avg_theta 0.47778957817102363\n",
            "std_x 94.33280812574314\n",
            "std_y 46.33952136581653\n",
            "std_theta 0.3589291443771741\n"
          ],
          "name": "stdout"
        },
        {
          "output_type": "error",
          "ename": "NameError",
          "evalue": "ignored",
          "traceback": [
            "\u001b[0;31m---------------------------------------------------------------------------\u001b[0m",
            "\u001b[0;31mNameError\u001b[0m                                 Traceback (most recent call last)",
            "\u001b[0;32m<ipython-input-111-63557baebab6>\u001b[0m in \u001b[0;36m<module>\u001b[0;34m()\u001b[0m\n\u001b[1;32m     37\u001b[0m     \u001b[0mprint\u001b[0m\u001b[0;34m(\u001b[0m\u001b[0;34m'std_y '\u001b[0m \u001b[0;34m+\u001b[0m \u001b[0mstr\u001b[0m\u001b[0;34m(\u001b[0m\u001b[0mstd_y\u001b[0m\u001b[0;34m)\u001b[0m\u001b[0;34m)\u001b[0m\u001b[0;34m\u001b[0m\u001b[0;34m\u001b[0m\u001b[0m\n\u001b[1;32m     38\u001b[0m     \u001b[0mprint\u001b[0m\u001b[0;34m(\u001b[0m\u001b[0;34m'std_theta '\u001b[0m \u001b[0;34m+\u001b[0m \u001b[0mstr\u001b[0m\u001b[0;34m(\u001b[0m\u001b[0mstd_theta\u001b[0m\u001b[0;34m)\u001b[0m\u001b[0;34m)\u001b[0m\u001b[0;34m\u001b[0m\u001b[0;34m\u001b[0m\u001b[0m\n\u001b[0;32m---> 39\u001b[0;31m     \u001b[0mgenerate_ideal_noisy_traj\u001b[0m\u001b[0;34m(\u001b[0m\u001b[0mx\u001b[0m\u001b[0;34m,\u001b[0m \u001b[0mcmds\u001b[0m\u001b[0;34m,\u001b[0m \u001b[0;36m1.0\u001b[0m\u001b[0;34m,\u001b[0m \u001b[0;36m10\u001b[0m\u001b[0;34m,\u001b[0m \u001b[0mstd_an\u001b[0m\u001b[0;34m)\u001b[0m\u001b[0;34m\u001b[0m\u001b[0;34m\u001b[0m\u001b[0m\n\u001b[0m\u001b[1;32m     40\u001b[0m     \u001b[0msensor_traces\u001b[0m\u001b[0;34m(\u001b[0m\u001b[0mx\u001b[0m\u001b[0;34m,\u001b[0m \u001b[0mcmds\u001b[0m\u001b[0;34m,\u001b[0m \u001b[0;36m1.0\u001b[0m\u001b[0;34m,\u001b[0m \u001b[0;36m10\u001b[0m\u001b[0;34m,\u001b[0m \u001b[0mstd_an\u001b[0m\u001b[0;34m,\u001b[0m \u001b[0mstd_r\u001b[0m\u001b[0;34m,\u001b[0m \u001b[0mstd_b\u001b[0m\u001b[0;34m)\u001b[0m\u001b[0;34m\u001b[0m\u001b[0;34m\u001b[0m\u001b[0m\n",
            "\u001b[0;31mNameError\u001b[0m: name 'generate_ideal_noisy_traj' is not defined"
          ]
        }
      ]
    },
    {
      "cell_type": "code",
      "metadata": {
        "id": "-K7uoeO4TBkA",
        "colab_type": "code",
        "colab": {}
      },
      "source": [
        ""
      ],
      "execution_count": 0,
      "outputs": []
    }
  ]
}