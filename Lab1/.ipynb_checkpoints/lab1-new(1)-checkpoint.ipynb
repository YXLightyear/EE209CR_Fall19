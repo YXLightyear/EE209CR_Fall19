{
 "cells": [
  {
   "cell_type": "code",
   "execution_count": 1,
   "metadata": {
    "scrolled": true
   },
   "outputs": [
    {
     "name": "stdout",
     "output_type": "stream",
     "text": [
      "1(a). The state space number Ns gives 768.\n"
     ]
    }
   ],
   "source": [
    "#209AS HW1\n",
    "import numpy as np\n",
    "\n",
    "L = 8 # grid length\n",
    "W = 8 # grid width\n",
    "dir = 12 # direction number\n",
    "Ns = L * W * dir\n",
    "\n",
    "# Problem 1(a) generate state space\n",
    "S = []\n",
    "for w in range(W):\n",
    "    for l in range(L):\n",
    "        for dirc in range(12):\n",
    "            S.append((w, l, dirc))\n",
    "            \n",
    "print ('1(a). The state space number Ns gives %d.' %Ns)"
   ]
  },
  {
   "cell_type": "code",
   "execution_count": 2,
   "metadata": {},
   "outputs": [
    {
     "name": "stdout",
     "output_type": "stream",
     "text": [
      "1(b). The action space number As gives 7.\n"
     ]
    }
   ],
   "source": [
    "# Problem 1(b) generate action space\n",
    "STOP = 0\n",
    "FWD = 1\n",
    "BWD = -1\n",
    "TURN_RIGHT = 1\n",
    "TURN_LEFT = -1\n",
    "NO_TURN = 0\n",
    "\n",
    "A = [[STOP, NO_TURN]]\n",
    "for i in [FWD, BWD]:\n",
    "    for j in [TURN_RIGHT, TURN_LEFT, NO_TURN]:\n",
    "        A.append((i, j))\n",
    "As = len(A)\n",
    "\n",
    "print ('1(b). The action space number As gives %d.' %As)"
   ]
  },
  {
   "cell_type": "code",
   "execution_count": 3,
   "metadata": {
    "scrolled": false
   },
   "outputs": [],
   "source": [
    "# Function checks position whether x, y is inside the grid\n",
    "def check_inrange(x, y):\n",
    "    if x < 0 or x > W-1 or y < 0 or y > L-1:\n",
    "        return 0\n",
    "    else:\n",
    "        return 1\n",
    "\n",
    "# Function takes current state and FWD as input, and returns absolute position change\n",
    "def grid_mov(s, FWD):\n",
    "    if s[2] in [11, 0, 1]:\n",
    "        if check_inrange(s[0], s[1] + FWD):\n",
    "            return [0, FWD] # Move NORTH\n",
    "        else:\n",
    "            return [0, 0] # Stay Still\n",
    "    if s[2] in [2, 3, 4]:\n",
    "        if check_inrange(s[0] + FWD, s[1]):\n",
    "            return [FWD, 0] # MOVE EAST\n",
    "        else:\n",
    "            return [0, 0]\n",
    "    if s[2] in [5, 6, 7]:\n",
    "        if check_inrange(s[0], s[1] - FWD):\n",
    "            return [0, -FWD] # MOVE SOUTH\n",
    "        else:\n",
    "            return [0, 0]\n",
    "    if s[2] in [8, 9, 10]:\n",
    "        if check_inrange(s[0] - FWD, s[1]):\n",
    "            return [-FWD, 0] # MOVE WEST\n",
    "        else:\n",
    "            return [0, 0]\n",
    "    else:\n",
    "        print('ERROR')\n",
    "        return [W, L]\n",
    "    \n",
    "# Problem 1(d)\n",
    "def next_state_dist(s, a, pe):\n",
    "    \n",
    "    distr = []\n",
    "    if a[0] == 0:\n",
    "        distr.append((s[0], s[1], s[2], 1)) # Stay Still\n",
    "        \n",
    "    else:\n",
    "        # Without prerotation\n",
    "        prob = 1 - 2*pe\n",
    "        [mov_x, mov_y] = grid_mov(s, a[0])\n",
    "        distr.append((s[0]+mov_x, s[1]+mov_y, (s[2]+a[1])%12, prob))\n",
    "             \n",
    "        # With prerotation\n",
    "        prob = pe\n",
    "        next_dir = (s[2] + 1)%12\n",
    "        s_n = [s[0], s[1],next_dir]\n",
    "        [mov_x, mov_y] = grid_mov(s_n, a[0])\n",
    "        distr.append((s[0]+mov_x, s[1]+mov_y, (next_dir+a[1])%12, prob)) \n",
    "        \n",
    "        prob = pe\n",
    "        next_dir = (s[2] - 1)%12\n",
    "        s_n = [s[0], s[1],next_dir]\n",
    "        [mov_x, mov_y] = grid_mov(s_n, a[0])\n",
    "        distr.append((s[0]+mov_x, s[1]+mov_y, (next_dir+a[1])%12, prob))\n",
    "        \n",
    "    return distr\n",
    "\n",
    "# Problem 1(c)    \n",
    "def next_state_prob(s, a, s_next, pe): # Function 1(c)\n",
    "    \n",
    "    distr = next_state_dist(s, a, pe)\n",
    "    for i in range(len(distr)):\n",
    "        if s_next == distr[i][0:3]:\n",
    "            return distr[i][3]\n",
    "    return 0"
   ]
  },
  {
   "cell_type": "code",
   "execution_count": 4,
   "metadata": {
    "scrolled": true
   },
   "outputs": [],
   "source": [
    "# Problem 2\n",
    "def reward(s):\n",
    "    x = s[0]\n",
    "    y = s[1]\n",
    "    R = np.zeros((W, L))\n",
    "    for i in [4, 5, 6]:\n",
    "        R[3][i] = -10\n",
    "    for i in range(W):\n",
    "        for j in range(L):\n",
    "            if i == 0 or i == 7 or j == 0 or j == 7: #Boundries\n",
    "                R[i][j] = -100\n",
    "    R[5][6] = 1\n",
    "    return R[x][y]"
   ]
  },
  {
   "cell_type": "code",
   "execution_count": 5,
   "metadata": {
    "scrolled": false
   },
   "outputs": [],
   "source": [
    "# Problem 4(a)\n",
    "def value_iteration(state, pe, discount, theta):\n",
    "    #initialization of Policy and Value.\n",
    "    V = {}\n",
    "    policy = {}\n",
    "    for s in state:\n",
    "        V[s] = 0.0\n",
    "        policy[s] = (0, 0)\n",
    "\n",
    "    while True:\n",
    "        delta = 0       \n",
    "        for s in state:\n",
    "            action_value = 0.0\n",
    "            action = [0, 0]\n",
    "            for a in A:\n",
    "                value = 0.0\n",
    "                state_list = next_state_dist(s, a, pe)\n",
    "                for st in range(len(state_list)):\n",
    "                    test_state = state_list[st][0:3]\n",
    "                    value += next_state_prob(s, a, test_state, pe)*(reward(test_state) + discount * V[test_state])\n",
    "                if value == max(action_value, value):\n",
    "                    action_value = value\n",
    "                    action = a\n",
    "            policy[s] = action\n",
    "            delta = max(delta, abs(action_value - V[s]))\n",
    "            V[s] = action_value         \n",
    "        \n",
    "        if delta < theta:\n",
    "            break\n",
    "\n",
    "    return policy, V"
   ]
  },
  {
   "cell_type": "code",
   "execution_count": 16,
   "metadata": {
    "scrolled": true
   },
   "outputs": [],
   "source": [
    "# Function used to generate the visual grid world\n",
    "import matplotlib.pyplot as plt\n",
    "def generate_trajectory(policy, s, pe=0.0, show=True):\n",
    "    \"\"\"\n",
    "    Generate a trajectory using policy from initial state s to the goal and\n",
    "    visualize the trajectory on the grid world.\n",
    "    \n",
    "    Args:\n",
    "        Policy: a directionary including all states and their related action.\n",
    "        Initial state s = (x, y, h).\n",
    "        p_e: the error probability Pe to pre-rotate when chosing to move. 0 < Pe <= 0.5\n",
    "    \n",
    "    Returns:\n",
    "        Trajectory including passing states and actions on each state\n",
    "    \"\"\"\n",
    "    \n",
    "    # Confirm the feasibility of p_e\n",
    "    if not (pe >= 0.0 and pe <= 0.5):\n",
    "        raise ValueError('The error probability must be between 0 and 0.5')\n",
    "        \n",
    "    # Generate the trajectory\n",
    "\n",
    "    traj = []\n",
    "    s_now = s\n",
    "    while True:\n",
    "        traj.append([s_now, policy[s_now]])\n",
    "        if (policy[s_now] == [0, 0]):\n",
    "            break\n",
    "        if (s_now[0] == 3) and (s_now[1] == 4):\n",
    "            break\n",
    "        P_state = next_state_dist(s_now, policy[s_now], pe)\n",
    "        statetest = 0\n",
    "        stateindex = 0\n",
    "        for i in range(len(P_state)):\n",
    "            if P_state[i][3] > statetest:\n",
    "                statetest = P_state[i][3]\n",
    "                stateindex = i\n",
    "        s_next = P_state[stateindex]\n",
    "        s_now = s_next[0:3]\n",
    "\n",
    "    \n",
    "    # Grid world initilization\n",
    "    fig = plt.figure(figsize = (L,W))\n",
    "    ax = fig.add_subplot(1,1,1)\n",
    "    plt.xlim((0, L))\n",
    "    plt.ylim((0, W))\n",
    "    plt.grid(True, color = 'k')\n",
    "\n",
    "    # Plot red markers at edges\n",
    "    edge1 = plt.Rectangle((0,0), 1, 8, color = 'r')\n",
    "    edge2 = plt.Rectangle((1,0), 7, 1, color = 'r')\n",
    "    edge3 = plt.Rectangle((7,1), 1, 7, color = 'r')\n",
    "    edge4 = plt.Rectangle((1,7), 6, 1, color = 'r')\n",
    "    ax.add_patch(edge1)\n",
    "    ax.add_patch(edge2)\n",
    "    ax.add_patch(edge3)\n",
    "    ax.add_patch(edge4)\n",
    "\n",
    "    # Plot yellow markers\n",
    "    yellow1 = plt.Rectangle((3,4), 1, 3, color = 'gold', alpha = 0.8)\n",
    "    ax.add_patch(yellow1)\n",
    "\n",
    "    # Plot green goal\n",
    "    goal = plt.Rectangle((5,6), 1, 1, color = 'limegreen', alpha = 0.8)\n",
    "    ax.add_patch(goal)\n",
    "\n",
    "    # Plot the start state\n",
    "    plt.plot(s[0]+0.5, s[1]+0.5, 'c*', markersize = '40')\n",
    "    ax.arrow(s[0]+0.5, s[1]+0.5, 0.4*np.sin(30*s[2]*np.pi/180),0.4*np.cos(30*s[2]*np.pi/180), \\\n",
    "             head_width = 0.1, head_length = 0.2, fc = 'k', ec = 'k')\n",
    "    \n",
    "    # Plot all passing states\n",
    "    for i in range(1, len(traj)):\n",
    "        x1 = traj[i-1][0][0]\n",
    "        y1 = traj[i-1][0][1]\n",
    "        x2 = traj[i][0][0]\n",
    "        y2 = traj[i][0][1]\n",
    "        h = traj[i][0][2]\n",
    "        plt.plot([x1+0.5, x2+0.5], [y1+0.5, y2+0.5], 'k--')\n",
    "        plt.plot(x2+0.5, y2+0.5, 'bo', markersize = '10')\n",
    "        ax.arrow(x2+0.5, y2+0.5, 0.4*np.sin(30*h*np.pi/180),0.4*np.cos(30*h*np.pi/180), \\\n",
    "                 head_width = 0.1, head_length = 0.2, fc = 'k', ec = 'k')\n",
    "    \n",
    "    if show:\n",
    "        plt.show()\n",
    "        \n",
    "    return traj"
   ]
  },
  {
   "cell_type": "code",
   "execution_count": 25,
   "metadata": {
    "scrolled": false
   },
   "outputs": [
    {
     "data": {
      "image/png": "[encoded data removed]",
      "text/plain": [
       "<Figure size 576x576 with 1 Axes>"
      ]
     },
     "metadata": {
      "needs_background": "light"
     },
     "output_type": "display_data"
    },
    {
     "name": "stdout",
     "output_type": "stream",
     "text": [
      "3.8105780355886414\n",
      "4.2339755950984905\n",
      "4.704417327887212\n",
      "5.227130364319124\n",
      "5.817620364319125\n",
      "6.473720364319125\n",
      "7.202720364319125\n",
      "8.012720364319124\n",
      "8.912720364319124\n",
      "9.912720364319124\n",
      "9.912720364319124\n",
      "4(b). Trajectory ([state, action]) from (1, 6, 6) to the goal is:  [[(1, 6, 6), (1, 0)], [(1, 5, 6), (1, -1)], [(1, 4, 5), (1, -1)], [(1, 3, 4), (1, 0)], [(2, 3, 4), (1, 0)], [(3, 3, 4), (1, 0)], [(4, 3, 4), (1, 1)], [(5, 3, 5), (-1, 0)], [(5, 4, 5), (-1, 0)], [(5, 5, 5), (-1, 0)], [(5, 6, 5), [0, 0]]] , with optimal value: 74.22104387312734\n"
     ]
    }
   ],
   "source": [
    "# Problem 4(b)\n",
    "import time\n",
    "start_time = time.time()\n",
    "policy_optimal, V_optimal = value_iteration(S, 0.0, 0.9, 0.01)\n",
    "end_time = time.time()\n",
    "s0 = (1, 6, 6)\n",
    "traj_sample = generate_trajectory(policy_optimal, s0, pe=0.0, show=True)\n",
    "\n",
    "V_value_ite = 0\n",
    "for i in range(0, len(traj_sample)):\n",
    "    V_value_ite += V_optimal[traj_sample[i][0]]\n",
    "    print(V_optimal[traj_sample[i][0]])\n",
    "\n",
    "print(\"4(b). Trajectory ([state, action]) from %s to the goal is: \" % str(s0), traj_sample, \", with optimal value:\" ,V_value_ite)"
   ]
  },
  {
   "cell_type": "code",
   "execution_count": 26,
   "metadata": {},
   "outputs": [
    {
     "name": "stdout",
     "output_type": "stream",
     "text": [
      "4(c). Execution time of Value Iteration = 11.597656011581421 s\n"
     ]
    }
   ],
   "source": [
    "# Problem 4(c)\n",
    "print(\"4(c). Execution time of Value Iteration = %s s\" %str(end_time - start_time))"
   ]
  },
  {
   "cell_type": "code",
   "execution_count": 36,
   "metadata": {},
   "outputs": [
    {
     "data": {
      "image/png": "[encoded data removed]",
      "text/plain": [
       "<Figure size 576x576 with 1 Axes>"
      ]
     },
     "metadata": {
      "needs_background": "light"
     },
     "output_type": "display_data"
    },
    {
     "name": "stdout",
     "output_type": "stream",
     "text": [
      "1.7878707758678631\n",
      "2.1194859943000743\n",
      "2.448436106861746\n",
      "3.156606265872322\n",
      "3.877956891882345\n",
      "4.749211391823507\n",
      "5.443157234741029\n",
      "6.611006810302835\n",
      "8.500104632814628\n",
      "9.912720364319124\n",
      "9.912720364319124\n",
      "5(a). Trajectory ([state, action]) from (1, 6, 6) to the goal is:  [[(1, 6, 6), (1, 0)], [(1, 5, 6), (1, -1)], [(1, 4, 5), (1, -1)], [(1, 3, 4), (1, -1)], [(2, 3, 3), (1, 0)], [(3, 3, 3), (1, -1)], [(4, 3, 2), (1, -1)], [(5, 3, 1), (1, -1)], [(5, 4, 0), (1, 0)], [(5, 5, 0), (1, 0)], [(5, 6, 0), [0, 0]]] , with optimal value: 58.5192768331046\n"
     ]
    }
   ],
   "source": [
    "# Problem 5(a)\n",
    "policy_optimal_5a, V_optimal_5a = value_iteration(S, 0.25, 0.9, 0.01)\n",
    "s0_5a = (1, 6, 6)\n",
    "traj_sample_5a = generate_trajectory(policy_optimal_5a, s0_5a, pe=0.25, show=True)\n",
    "\n",
    "V_value_ite_5a = 0\n",
    "for i in range(0, len(traj_sample_5a)):\n",
    "    V_value_ite_5a += V_optimal_5a[traj_sample_5a[i][0]]\n",
    "    print(V_optimal_5a[traj_sample_5a[i][0]])\n",
    "\n",
    "print(\"5(a). Trajectory ([state, action]) from %s to the goal is: \" % str(s0), traj_sample_5a, \", with optimal value:\" ,V_value_ite_5a)"
   ]
  },
  {
   "cell_type": "code",
   "execution_count": 37,
   "metadata": {},
   "outputs": [],
   "source": [
    "def new_reward(s):\n",
    "    x = s[0]\n",
    "    y = s[1]\n",
    "    R = np.zeros((W, L))\n",
    "    for i in [4, 5, 6]:\n",
    "        R[3][i] = -10\n",
    "    for i in range(W):\n",
    "        for j in range(L):\n",
    "            if i == 0 or i == 7 or j == 0 or j == 7: #Boundries\n",
    "                R[i][j] = -100\n",
    "    if x == 5 and y == 6 and s[2] == 6:\n",
    "        return 1\n",
    "    return R[x][y]"
   ]
  },
  {
   "cell_type": "code",
   "execution_count": 38,
   "metadata": {},
   "outputs": [],
   "source": [
    "def new_value_iteration(state, pe, discount, theta):\n",
    "    #initialization of Policy and Value.\n",
    "    V = {}\n",
    "    policy = {}\n",
    "    for s in state:\n",
    "        V[s] = 0.0\n",
    "        policy[s] = (0, 0)\n",
    "\n",
    "    while True:\n",
    "        delta = 0       \n",
    "        for s in state:\n",
    "            action_value = 0.0\n",
    "            action = [0, 0]\n",
    "            for a in A:\n",
    "                value = 0.0\n",
    "                state_list = next_state_dist(s, a, pe)\n",
    "                for st in range(len(state_list)):\n",
    "                    test_state = state_list[st][0:3]\n",
    "                    value += next_state_prob(s, a, test_state, pe)*(new_reward(test_state) + discount * V[test_state])\n",
    "                if value == max(action_value, value):\n",
    "                    action_value = value\n",
    "                    action = a\n",
    "            policy[s] = action\n",
    "            delta = max(delta, abs(action_value - V[s]))\n",
    "            V[s] = action_value         \n",
    "        \n",
    "        if delta < theta:\n",
    "            break\n",
    "\n",
    "    return policy, V"
   ]
  },
  {
   "cell_type": "code",
   "execution_count": 35,
   "metadata": {
    "scrolled": false
   },
   "outputs": [
    {
     "data": {
      "image/png": "[encoded data removed]",
      "text/plain": [
       "<Figure size 576x576 with 1 Axes>"
      ]
     },
     "metadata": {
      "needs_background": "light"
     },
     "output_type": "display_data"
    },
    {
     "data": {
      "image/png": "[encoded data removed]",
      "text/plain": [
       "<Figure size 576x576 with 1 Axes>"
      ]
     },
     "metadata": {
      "needs_background": "light"
     },
     "output_type": "display_data"
    },
    {
     "name": "stdout",
     "output_type": "stream",
     "text": [
      "5b0\n",
      "3.8105780355886414\n",
      "4.2339755950984905\n",
      "4.704417327887212\n",
      "5.227130364319124\n",
      "5.817620364319125\n",
      "6.473720364319125\n",
      "7.202720364319125\n",
      "8.012720364319124\n",
      "8.912720364319124\n",
      "9.912720364319124\n",
      "9.912720364319124\n",
      "5b1\n",
      "1.2973583436832024\n",
      "1.5373954894920792\n",
      "1.7753579047345494\n",
      "2.2899369046634996\n",
      "2.816648086253671\n",
      "3.4251481373387382\n",
      "3.933368706885477\n",
      "5.022895035523883\n",
      "6.433866010949743\n",
      "7.235400182413441\n",
      "9.912720364319124\n",
      "5(b). When pe = 0, trajectory ([state, action]) from (1, 6, 6) to the goal is:  [[(1, 6, 6), (1, 0)], [(1, 5, 6), (1, -1)], [(1, 4, 5), (1, -1)], [(1, 3, 4), (1, 0)], [(2, 3, 4), (1, 0)], [(3, 3, 4), (1, 0)], [(4, 3, 4), (1, 1)], [(5, 3, 5), (-1, 0)], [(5, 4, 5), (-1, 0)], [(5, 5, 5), (-1, 1)], [(5, 6, 6), [0, 0]]] , with optimal value: 74.22104387312734\n",
      "5(b). When pe = 0.25, trajectory ([state, action]) from (1, 6, 6) to the goal is:  [[(1, 6, 6), (1, 0)], [(1, 5, 6), (1, -1)], [(1, 4, 5), (1, -1)], [(1, 3, 4), (1, -1)], [(2, 3, 3), (1, 0)], [(3, 3, 3), (1, 1)], [(4, 3, 4), (1, 1)], [(5, 3, 5), (-1, 1)], [(5, 4, 6), (-1, 0)], [(5, 5, 6), (-1, 0)], [(5, 6, 6), [0, 0]]] , with optimal value: 45.6800951662574\n"
     ]
    }
   ],
   "source": [
    "# Problem 5(b)\n",
    "policy_optimal_5b0, V_optimal_5b0 = new_value_iteration(S, 0.0, 0.9, 0.01)\n",
    "traj_sample_5b0 = generate_trajectory(policy_optimal_5b0, s0_5a, pe=0.0, show=True)\n",
    "\n",
    "policy_optimal_5b1, V_optimal_5b1 = new_value_iteration(S, 0.25, 0.9, 0.01)\n",
    "traj_sample_5b1 = generate_trajectory(policy_optimal_5b1, s0_5a, pe=0.25, show=True)\n",
    "\n",
    "print(\"5b0\")\n",
    "\n",
    "V_value_ite_5b0 = 0\n",
    "for i in range(0, len(traj_sample_5b0)):\n",
    "    V_value_ite_5b0 += V_optimal_5b0[traj_sample_5b0[i][0]]\n",
    "    print(V_optimal_5b0[traj_sample_5b0[i][0]])\n",
    "    \n",
    "print(\"5b1\")\n",
    "    \n",
    "V_value_ite_5b1 = 0\n",
    "for i in range(0, len(traj_sample_5b1)):\n",
    "    V_value_ite_5b1 += V_optimal_5b1[traj_sample_5b1[i][0]]\n",
    "    print(V_optimal_5b1[traj_sample_5b1[i][0]])\n",
    "\n",
    "print(\"5(b). When pe = 0, trajectory ([state, action]) from %s to the goal is: \" % str(s0), traj_sample_5b0, \", with optimal value:\" ,V_value_ite_5b0)\n",
    "print(\"5(b). When pe = 0.25, trajectory ([state, action]) from %s to the goal is: \" % str(s0), traj_sample_5b1, \", with optimal value:\" ,V_value_ite_5b1)"
   ]
  },
  {
   "cell_type": "code",
   "execution_count": null,
   "metadata": {},
   "outputs": [],
   "source": []
  }
 ],
 "metadata": {
  "kernelspec": {
   "display_name": "Python 3",
   "language": "python",
   "name": "python3"
  },
  "language_info": {
   "codemirror_mode": {
    "name": "ipython",
    "version": 3
   },
   "file_extension": ".py",
   "mimetype": "text/x-python",
   "name": "python",
   "nbconvert_exporter": "python",
   "pygments_lexer": "ipython3",
   "version": "3.7.1"
  }
 },
 "nbformat": 4,
 "nbformat_minor": 2
}
